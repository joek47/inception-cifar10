{
 "cells": [
  {
   "cell_type": "markdown",
   "metadata": {},
   "source": [
    "# Extract Bottleneck Features for Train Set"
   ]
  },
  {
   "cell_type": "code",
   "execution_count": 1,
   "metadata": {},
   "outputs": [
    {
     "name": "stderr",
     "output_type": "stream",
     "text": [
      "/home/ubuntu/anaconda2/envs/py36/lib/python3.6/site-packages/h5py/__init__.py:36: FutureWarning: Conversion of the second argument of issubdtype from `float` to `np.floating` is deprecated. In future, it will be treated as `np.float64 == np.dtype(float).type`.\n",
      "  from ._conv import register_converters as _register_converters\n",
      "Using TensorFlow backend.\n"
     ]
    },
    {
     "name": "stdout",
     "output_type": "stream",
     "text": [
      "data loaded\n",
      "model loaded\n",
      "bottleneck features detected (train)\n",
      "bottleneck features saved (train)\n"
     ]
    }
   ],
   "source": [
    "import keras\n",
    "from keras.datasets import cifar10\n",
    "import numpy as np\n",
    "from keras.applications.inception_v3 import InceptionV3, preprocess_input\n",
    "import scipy\n",
    "from scipy import misc\n",
    "import os\n",
    "from keras.callbacks import ModelCheckpoint   \n",
    "from keras.models import Sequential\n",
    "from keras.layers import Dense, Dropout, Conv2D, GlobalAveragePooling2D\n",
    "from keras.layers import Flatten\n",
    "from keras.layers import MaxPooling2D\n",
    "from keras.layers.normalization import BatchNormalization\n",
    "\n",
    "# load the data\n",
    "(x_train, y_train), (x_test, y_test) = cifar10.load_data()\n",
    "y_train = np.squeeze(y_train)\n",
    "print('data loaded')\n",
    "\n",
    "# load inceptionV3 model + remove final classification layers\n",
    "model = InceptionV3(weights='imagenet', include_top=False, input_shape=(139, 139, 3))\n",
    "print('model loaded')\n",
    "\n",
    "# obtain bottleneck features (train)\n",
    "if os.path.exists('inception_features_train.npz'):\n",
    "    print('bottleneck features detected (train)')\n",
    "    features = np.load('inception_features_train.npz')['features']\n",
    "else:\n",
    "    print('bottleneck features file not detected (train)')\n",
    "    print('calculating now ...')\n",
    "    # pre-process the train data\n",
    "    big_x_train = np.array([scipy.misc.imresize(x_train[i], (139, 139, 3)) \n",
    "                            for i in range(0, len(x_train))]).astype('float32')\n",
    "    inception_input_train = preprocess_input(big_x_train)\n",
    "    print('train data preprocessed')\n",
    "    # extract, process, and save bottleneck features\n",
    "    features = model.predict(inception_input_train)\n",
    "    features = np.squeeze(features)\n",
    "    np.savez('inception_features_train', features=features)\n",
    "print('bottleneck features saved (train)')"
   ]
  },
  {
   "cell_type": "markdown",
   "metadata": {},
   "source": [
    "# Extract Bottleneck Features for Test Set"
   ]
  },
  {
   "cell_type": "code",
   "execution_count": 2,
   "metadata": {},
   "outputs": [
    {
     "name": "stdout",
     "output_type": "stream",
     "text": [
      "bottleneck features detected (test)\n",
      "bottleneck features saved (test)\n"
     ]
    }
   ],
   "source": [
    "# obtain bottleneck features (test)\n",
    "if os.path.exists('inception_features_test.npz'):\n",
    "    print('bottleneck features detected (test)')\n",
    "    features_test = np.load('inception_features_test.npz')['features_test']\n",
    "else:\n",
    "    print('bottleneck features file not detected (test)')\n",
    "    print('calculating now ...')\n",
    "    # pre-process the test data\n",
    "    big_x_test = np.array([scipy.misc.imresize(x_test[i], (139, 139, 3)) \n",
    "                       for i in range(0, len(x_test))]).astype('float32')\n",
    "    inception_input_test = preprocess_input(big_x_test)\n",
    "    # extract, process, and save bottleneck features (test)\n",
    "    features_test = model.predict(inception_input_test)\n",
    "    features_test = np.squeeze(features_test)\n",
    "    np.savez('inception_features_test', features_test=features_test)\n",
    "print('bottleneck features saved (test)')"
   ]
  },
  {
   "cell_type": "markdown",
   "metadata": {
    "collapsed": true
   },
   "source": [
    "# Train a Shallow NN"
   ]
  },
  {
   "cell_type": "code",
   "execution_count": 3,
   "metadata": {},
   "outputs": [],
   "source": [
    "from keras.utils import np_utils\n",
    "\n",
    "# one-hot encode the labels\n",
    "y_train = np_utils.to_categorical(y_train, 10)\n",
    "y_test = np_utils.to_categorical(y_test, 10)"
   ]
  },
  {
   "cell_type": "code",
   "execution_count": 5,
   "metadata": {},
   "outputs": [
    {
     "data": {
      "text/plain": [
       "(3, 3, 2048)"
      ]
     },
     "execution_count": 5,
     "metadata": {},
     "output_type": "execute_result"
    }
   ],
   "source": [
    "features.shape[1:]"
   ]
  },
  {
   "cell_type": "code",
   "execution_count": 7,
   "metadata": {},
   "outputs": [
    {
     "name": "stdout",
     "output_type": "stream",
     "text": [
      "_________________________________________________________________\n",
      "Layer (type)                 Output Shape              Param #   \n",
      "=================================================================\n",
      "conv2d_95 (Conv2D)           (None, 2, 2, 128)         1048704   \n",
      "_________________________________________________________________\n",
      "dropout_1 (Dropout)          (None, 2, 2, 128)         0         \n",
      "_________________________________________________________________\n",
      "global_average_pooling2d_1 ( (None, 128)               0         \n",
      "_________________________________________________________________\n",
      "dropout_2 (Dropout)          (None, 128)               0         \n",
      "_________________________________________________________________\n",
      "dense_1 (Dense)              (None, 64)                8256      \n",
      "_________________________________________________________________\n",
      "dropout_3 (Dropout)          (None, 64)                0         \n",
      "_________________________________________________________________\n",
      "dense_2 (Dense)              (None, 32)                2080      \n",
      "_________________________________________________________________\n",
      "dropout_4 (Dropout)          (None, 32)                0         \n",
      "_________________________________________________________________\n",
      "dense_3 (Dense)              (None, 10)                330       \n",
      "=================================================================\n",
      "Total params: 1,059,370\n",
      "Trainable params: 1,059,370\n",
      "Non-trainable params: 0\n",
      "_________________________________________________________________\n"
     ]
    }
   ],
   "source": [
    "model = model2()"
   ]
  },
  {
   "cell_type": "code",
   "execution_count": 8,
   "metadata": {
    "scrolled": true
   },
   "outputs": [
    {
     "name": "stdout",
     "output_type": "stream",
     "text": [
      "Train on 45000 samples, validate on 5000 samples\n",
      "Epoch 1/50\n",
      " - 5s - loss: 2.3836 - acc: 0.3188 - val_loss: 1.1226 - val_acc: 0.6834\n",
      "\n",
      "Epoch 00001: val_loss improved from inf to 1.12255, saving model to improvement-01-0.68.hdf5\n",
      "Epoch 2/50\n",
      " - 3s - loss: 1.4268 - acc: 0.5839 - val_loss: 0.9846 - val_acc: 0.7276\n",
      "\n",
      "Epoch 00002: val_loss improved from 1.12255 to 0.98458, saving model to improvement-02-0.73.hdf5\n",
      "Epoch 3/50\n",
      " - 3s - loss: 1.1256 - acc: 0.6738 - val_loss: 0.7512 - val_acc: 0.7854\n",
      "\n",
      "Epoch 00003: val_loss improved from 0.98458 to 0.75117, saving model to improvement-03-0.79.hdf5\n",
      "Epoch 4/50\n",
      " - 3s - loss: 0.9848 - acc: 0.7083 - val_loss: 0.6797 - val_acc: 0.7928\n",
      "\n",
      "Epoch 00004: val_loss improved from 0.75117 to 0.67972, saving model to improvement-04-0.79.hdf5\n",
      "Epoch 5/50\n",
      " - 3s - loss: 0.8546 - acc: 0.7432 - val_loss: 0.6601 - val_acc: 0.8008\n",
      "\n",
      "Epoch 00005: val_loss improved from 0.67972 to 0.66010, saving model to improvement-05-0.80.hdf5\n",
      "Epoch 6/50\n",
      " - 3s - loss: 0.7831 - acc: 0.7592 - val_loss: 0.6102 - val_acc: 0.8134\n",
      "\n",
      "Epoch 00006: val_loss improved from 0.66010 to 0.61019, saving model to improvement-06-0.81.hdf5\n",
      "Epoch 7/50\n",
      " - 3s - loss: 0.7299 - acc: 0.7797 - val_loss: 0.6066 - val_acc: 0.8154\n",
      "\n",
      "Epoch 00007: val_loss improved from 0.61019 to 0.60663, saving model to improvement-07-0.82.hdf5\n",
      "Epoch 8/50\n",
      " - 3s - loss: 0.6919 - acc: 0.7891 - val_loss: 0.6196 - val_acc: 0.8026\n",
      "\n",
      "Epoch 00008: val_loss did not improve\n",
      "Epoch 9/50\n",
      " - 3s - loss: 0.6672 - acc: 0.7951 - val_loss: 0.5592 - val_acc: 0.8206\n",
      "\n",
      "Epoch 00009: val_loss improved from 0.60663 to 0.55917, saving model to improvement-09-0.82.hdf5\n",
      "Epoch 10/50\n",
      " - 3s - loss: 0.6418 - acc: 0.8068 - val_loss: 0.5554 - val_acc: 0.8282\n",
      "\n",
      "Epoch 00010: val_loss improved from 0.55917 to 0.55542, saving model to improvement-10-0.83.hdf5\n",
      "Epoch 11/50\n",
      " - 3s - loss: 0.6243 - acc: 0.8101 - val_loss: 0.5560 - val_acc: 0.8256\n",
      "\n",
      "Epoch 00011: val_loss did not improve\n",
      "Epoch 12/50\n",
      " - 3s - loss: 0.6036 - acc: 0.8137 - val_loss: 0.5637 - val_acc: 0.8254\n",
      "\n",
      "Epoch 00012: val_loss did not improve\n",
      "Epoch 13/50\n",
      " - 3s - loss: 0.5869 - acc: 0.8208 - val_loss: 0.5389 - val_acc: 0.8320\n",
      "\n",
      "Epoch 00013: val_loss improved from 0.55542 to 0.53891, saving model to improvement-13-0.83.hdf5\n",
      "Epoch 14/50\n",
      " - 3s - loss: 0.5700 - acc: 0.8238 - val_loss: 0.5490 - val_acc: 0.8258\n",
      "\n",
      "Epoch 00014: val_loss did not improve\n",
      "Epoch 15/50\n",
      " - 3s - loss: 0.5634 - acc: 0.8282 - val_loss: 0.5679 - val_acc: 0.8238\n",
      "\n",
      "Epoch 00015: val_loss did not improve\n",
      "Epoch 16/50\n",
      " - 3s - loss: 0.5479 - acc: 0.8322 - val_loss: 0.5294 - val_acc: 0.8314\n",
      "\n",
      "Epoch 00016: val_loss improved from 0.53891 to 0.52941, saving model to improvement-16-0.83.hdf5\n",
      "Epoch 17/50\n",
      " - 3s - loss: 0.5347 - acc: 0.8343 - val_loss: 0.5374 - val_acc: 0.8334\n",
      "\n",
      "Epoch 00017: val_loss did not improve\n",
      "Epoch 18/50\n",
      " - 3s - loss: 0.5258 - acc: 0.8382 - val_loss: 0.5441 - val_acc: 0.8358\n",
      "\n",
      "Epoch 00018: val_loss did not improve\n",
      "Epoch 19/50\n",
      " - 3s - loss: 0.5196 - acc: 0.8391 - val_loss: 0.5450 - val_acc: 0.8342\n",
      "\n",
      "Epoch 00019: val_loss did not improve\n",
      "Epoch 20/50\n",
      " - 3s - loss: 0.5088 - acc: 0.8410 - val_loss: 0.5586 - val_acc: 0.8290\n",
      "\n",
      "Epoch 00020: val_loss did not improve\n",
      "Epoch 21/50\n",
      " - 3s - loss: 0.5029 - acc: 0.8457 - val_loss: 0.5670 - val_acc: 0.8334\n",
      "\n",
      "Epoch 00021: val_loss did not improve\n",
      "Epoch 22/50\n",
      " - 3s - loss: 0.5046 - acc: 0.8439 - val_loss: 0.5730 - val_acc: 0.8280\n",
      "\n",
      "Epoch 00022: val_loss did not improve\n",
      "Epoch 23/50\n",
      " - 3s - loss: 0.4896 - acc: 0.8488 - val_loss: 0.5271 - val_acc: 0.8358\n",
      "\n",
      "Epoch 00023: val_loss improved from 0.52941 to 0.52711, saving model to improvement-23-0.84.hdf5\n",
      "Epoch 24/50\n",
      " - 3s - loss: 0.4767 - acc: 0.8487 - val_loss: 0.5545 - val_acc: 0.8276\n",
      "\n",
      "Epoch 00024: val_loss did not improve\n",
      "Epoch 25/50\n",
      " - 3s - loss: 0.4778 - acc: 0.8524 - val_loss: 0.5565 - val_acc: 0.8310\n",
      "\n",
      "Epoch 00025: val_loss did not improve\n",
      "Epoch 26/50\n",
      " - 3s - loss: 0.4692 - acc: 0.8527 - val_loss: 0.5637 - val_acc: 0.8374\n",
      "\n",
      "Epoch 00026: val_loss did not improve\n",
      "Epoch 27/50\n",
      " - 3s - loss: 0.4596 - acc: 0.8577 - val_loss: 0.5927 - val_acc: 0.8350\n",
      "\n",
      "Epoch 00027: val_loss did not improve\n",
      "Epoch 28/50\n",
      " - 3s - loss: 0.4581 - acc: 0.8557 - val_loss: 0.5825 - val_acc: 0.8348\n",
      "\n",
      "Epoch 00028: val_loss did not improve\n",
      "Epoch 29/50\n",
      " - 3s - loss: 0.4469 - acc: 0.8599 - val_loss: 0.6136 - val_acc: 0.8348\n",
      "\n",
      "Epoch 00029: val_loss did not improve\n",
      "Epoch 30/50\n",
      " - 3s - loss: 0.4425 - acc: 0.8608 - val_loss: 0.5440 - val_acc: 0.8446\n",
      "\n",
      "Epoch 00030: val_loss did not improve\n",
      "Epoch 31/50\n",
      " - 3s - loss: 0.4394 - acc: 0.8618 - val_loss: 0.5825 - val_acc: 0.8400\n",
      "\n",
      "Epoch 00031: val_loss did not improve\n",
      "Epoch 32/50\n",
      " - 3s - loss: 0.4298 - acc: 0.8662 - val_loss: 0.5438 - val_acc: 0.8368\n",
      "\n",
      "Epoch 00032: val_loss did not improve\n",
      "Epoch 33/50\n",
      " - 3s - loss: 0.4409 - acc: 0.8626 - val_loss: 0.5427 - val_acc: 0.8398\n",
      "\n",
      "Epoch 00033: val_loss did not improve\n",
      "Epoch 34/50\n",
      " - 3s - loss: 0.4300 - acc: 0.8667 - val_loss: 0.5636 - val_acc: 0.8392\n",
      "\n",
      "Epoch 00034: val_loss did not improve\n",
      "Epoch 35/50\n",
      " - 3s - loss: 0.4214 - acc: 0.8692 - val_loss: 0.5883 - val_acc: 0.8404\n",
      "\n",
      "Epoch 00035: val_loss did not improve\n",
      "Epoch 36/50\n",
      " - 3s - loss: 0.4212 - acc: 0.8677 - val_loss: 0.5793 - val_acc: 0.8424\n",
      "\n",
      "Epoch 00036: val_loss did not improve\n",
      "Epoch 37/50\n",
      " - 3s - loss: 0.4125 - acc: 0.8716 - val_loss: 0.5754 - val_acc: 0.8436\n",
      "\n",
      "Epoch 00037: val_loss did not improve\n",
      "Epoch 38/50\n",
      " - 3s - loss: 0.4139 - acc: 0.8712 - val_loss: 0.6153 - val_acc: 0.8436\n",
      "\n",
      "Epoch 00038: val_loss did not improve\n",
      "Epoch 39/50\n",
      " - 3s - loss: 0.4131 - acc: 0.8714 - val_loss: 0.5740 - val_acc: 0.8348\n",
      "\n",
      "Epoch 00039: val_loss did not improve\n",
      "Epoch 40/50\n",
      " - 3s - loss: 0.4119 - acc: 0.8726 - val_loss: 0.6356 - val_acc: 0.8358\n",
      "\n",
      "Epoch 00040: val_loss did not improve\n",
      "Epoch 41/50\n",
      " - 3s - loss: 0.4038 - acc: 0.8745 - val_loss: 0.5980 - val_acc: 0.8352\n",
      "\n",
      "Epoch 00041: val_loss did not improve\n",
      "Epoch 42/50\n",
      " - 3s - loss: 0.4013 - acc: 0.8726 - val_loss: 0.6766 - val_acc: 0.8332\n",
      "\n",
      "Epoch 00042: val_loss did not improve\n",
      "Epoch 43/50\n",
      " - 3s - loss: 0.3955 - acc: 0.8756 - val_loss: 0.6488 - val_acc: 0.8394\n",
      "\n",
      "Epoch 00043: val_loss did not improve\n",
      "Epoch 44/50\n",
      " - 3s - loss: 0.3908 - acc: 0.8759 - val_loss: 0.6369 - val_acc: 0.8378\n",
      "\n",
      "Epoch 00044: val_loss did not improve\n",
      "Epoch 45/50\n",
      " - 3s - loss: 0.3893 - acc: 0.8779 - val_loss: 0.6164 - val_acc: 0.8384\n",
      "\n",
      "Epoch 00045: val_loss did not improve\n",
      "Epoch 46/50\n",
      " - 3s - loss: 0.3916 - acc: 0.8773 - val_loss: 0.6209 - val_acc: 0.8320\n",
      "\n",
      "Epoch 00046: val_loss did not improve\n",
      "Epoch 47/50\n",
      " - 3s - loss: 0.3869 - acc: 0.8804 - val_loss: 0.7444 - val_acc: 0.8380\n",
      "\n",
      "Epoch 00047: val_loss did not improve\n",
      "Epoch 48/50\n",
      " - 3s - loss: 0.3843 - acc: 0.8789 - val_loss: 0.6701 - val_acc: 0.8438\n",
      "\n",
      "Epoch 00048: val_loss did not improve\n",
      "Epoch 49/50\n",
      " - 3s - loss: 0.3798 - acc: 0.8810 - val_loss: 0.6344 - val_acc: 0.8356\n",
      "\n",
      "Epoch 00049: val_loss did not improve\n",
      "Epoch 50/50\n",
      " - 3s - loss: 0.3802 - acc: 0.8801 - val_loss: 0.6285 - val_acc: 0.8418\n",
      "\n",
      "Epoch 00050: val_loss did not improve\n"
     ]
    },
    {
     "data": {
      "text/plain": [
       "<keras.callbacks.History at 0x7f30b6ed9400>"
      ]
     },
     "execution_count": 8,
     "metadata": {},
     "output_type": "execute_result"
    }
   ],
   "source": [
    "batch_size = 256\n",
    "epochs = 50\n",
    "\n",
    "checkpointer = ModelCheckpoint(filepath='improvement-{epoch:02d}-{val_acc:.2f}.hdf5', \n",
    "                               verbose=1, save_best_only=True)\n",
    "\n",
    "model.fit(features, y_train, batch_size=batch_size, epochs=epochs,\n",
    "          validation_split=0.1, callbacks=[checkpointer],\n",
    "          verbose=2, shuffle=True)"
   ]
  },
  {
   "cell_type": "code",
   "execution_count": 9,
   "metadata": {},
   "outputs": [
    {
     "name": "stdout",
     "output_type": "stream",
     "text": [
      "improvement-07-0.82.hdf5 Test accuracy: 81.5100%\n",
      "improvement-02-0.73.hdf5 Test accuracy: 71.7100%\n",
      "improvement-13-0.83.hdf5 Test accuracy: 83.1400%\n",
      "improvement-01-0.68.hdf5 Test accuracy: 68.1500%\n",
      "improvement-23-0.84.hdf5 Test accuracy: 83.2500%\n",
      "improvement-06-0.81.hdf5 Test accuracy: 80.5600%\n",
      "improvement-16-0.83.hdf5 Test accuracy: 82.9200%\n",
      "improvement-05-0.80.hdf5 Test accuracy: 80.2400%\n",
      "improvement-04-0.79.hdf5 Test accuracy: 78.7700%\n",
      "improvement-10-0.83.hdf5 Test accuracy: 82.7000%\n",
      "improvement-09-0.82.hdf5 Test accuracy: 82.1300%\n",
      "improvement-03-0.79.hdf5 Test accuracy: 77.8900%\n"
     ]
    }
   ],
   "source": [
    "from glob import glob\n",
    "\n",
    "for g in glob('*.hdf5'):\n",
    "    \n",
    "    model.load_weights(g)\n",
    "\n",
    "    # evaluate test accuracy\n",
    "    score = model.evaluate(features_test, y_test, verbose=0)\n",
    "    accuracy = 100*score[1]\n",
    "\n",
    "    # print test accuracy\n",
    "    print('%s Test accuracy: %.4f%%' % (g, accuracy))"
   ]
  }
 ],
 "metadata": {
  "kernelspec": {
   "display_name": "Py36 tf gpu",
   "language": "python",
   "name": "py36"
  },
  "language_info": {
   "codemirror_mode": {
    "name": "ipython",
    "version": 3
   },
   "file_extension": ".py",
   "mimetype": "text/x-python",
   "name": "python",
   "nbconvert_exporter": "python",
   "pygments_lexer": "ipython3",
   "version": "3.6.4"
  }
 },
 "nbformat": 4,
 "nbformat_minor": 2
}
